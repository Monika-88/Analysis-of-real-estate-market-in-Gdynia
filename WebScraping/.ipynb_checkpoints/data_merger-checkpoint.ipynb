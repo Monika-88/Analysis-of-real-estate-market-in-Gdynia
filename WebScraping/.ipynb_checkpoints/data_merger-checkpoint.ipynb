{
 "cells": [
  {
   "cell_type": "code",
   "execution_count": 1,
   "id": "9edbee4d",
   "metadata": {},
   "outputs": [
    {
     "name": "stdout",
     "output_type": "stream",
     "text": [
      "INSERT INTO advert SELECT * FROM dba.advert\n"
     ]
    }
   ],
   "source": [
    "import sqlite3\n",
    "import os\n",
    "\n",
    "\n",
    "bases_to_merge_path = os.walk('.\\\\databases_to_merge')\n",
    "merged_database_path = os.walk('.\\\\merged_database')\n",
    "\n",
    "\n",
    "def get_files_date_list(path: iter):\n",
    "    _, _, filenames = next(path)\n",
    "    date_list = [file.lstrip('data_').rstrip('.db') for file in filenames]\n",
    "    date_list.sort()\n",
    "    return date_list\n",
    "\n",
    "\n",
    "def get_merged_file_date(path: iter):\n",
    "    _, _, filename = next(path)\n",
    "    file_date = [file.lstrip('all_data_merged').rstrip('.db') for file in filename]\n",
    "    return file_date\n",
    "\n",
    "\n",
    "def data_merger(to_merge_date_list: list, merged_file_date: list):\n",
    "    if int(to_merge_date_list[-1][5:]) > int(merged_file_date[0]):\n",
    "        for fig, date in enumerate(to_merge_date_list, start=1):\n",
    "            if int(date[5:]) > int(merged_file_date[0]):\n",
    "                conn = sqlite3.connect(f'merged_database/all_data_merged_{merged_file_date[0]}.db')\n",
    "                conn.execute(f\"ATTACH 'databases_to_merge/data_{date}.db' as dba\")\n",
    "\n",
    "                conn.execute(\"BEGIN\")\n",
    "                for row in conn.execute(\"SELECT * FROM dba.sqlite_master WHERE type='table'\"):\n",
    "                    combine = \"INSERT INTO \" + row[1] + \" SELECT * FROM dba.\" + row[1]\n",
    "                    print(combine)\n",
    "                    conn.execute(combine)\n",
    "                conn.commit()\n",
    "                conn.execute(\"detach database dba\")\n",
    "                conn.close()\n",
    "            if fig == len(to_merge_date_list):\n",
    "                last_file_date = str(date)[5:]\n",
    "                os.rename(f'merged_database/all_data_merged_{merged_file_date[0]}.db',\n",
    "                          f'merged_database/all_data_merged_{last_file_date}.db')\n",
    "    else:\n",
    "        print('Everything is up to date')\n",
    "\n",
    "\n",
    "data_merger(get_files_date_list(bases_to_merge_path), get_merged_file_date(merged_database_path))\n"
   ]
  },
  {
   "cell_type": "code",
   "execution_count": null,
   "id": "3601d722",
   "metadata": {},
   "outputs": [],
   "source": []
  }
 ],
 "metadata": {
  "kernelspec": {
   "display_name": "Python 3",
   "language": "python",
   "name": "python3"
  },
  "language_info": {
   "codemirror_mode": {
    "name": "ipython",
    "version": 3
   },
   "file_extension": ".py",
   "mimetype": "text/x-python",
   "name": "python",
   "nbconvert_exporter": "python",
   "pygments_lexer": "ipython3",
   "version": "3.8.10"
  }
 },
 "nbformat": 4,
 "nbformat_minor": 5
}
